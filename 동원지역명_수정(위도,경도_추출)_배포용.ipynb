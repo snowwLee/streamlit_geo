{
  "cells": [
    {
      "cell_type": "markdown",
      "metadata": {
        "id": "NhW5nD_CkhLJ"
      },
      "source": [
        "##대일항쟁기 강제동원 희생자 지도 시각화\n",
        "### 과제 요청 부서 : 과거사관련업무지원단 - 대일항쟁기강제동원피해지원과\n",
        "### 과제 수행 기간 : 2024.03.~2024.08.\n",
        "### 과제 담당 : 데이터정보화담당관 청년인턴 이선희\n",
        "### e-mail : allmysullem223@gmail.com\n",
        "---\n",
        "<코드 개요>   \n",
        "지도 시각화를 위하여 위도 경도 필요   \n",
        "희생자 목록에 존재하고 있는 '동원지역명 - 수정' 열을 이용하여 위도 경도 추출 수행하기 위한 코드\n",
        "\n",
        "---\n",
        "<과정>\n",
        "1. 비어있거나 대치 시켜야 하는 지역명 변경\n",
        "2.  googletrans를 사용하요 한국어 지역명을 이용하여 다양한 언어의 지역명으로 번역 수행 후 새로운 열 생성\n",
        "3. googlemaps를 이용하여 위도 경도 추출\n",
        "4. 데이터 확정\n",
        "\n",
        "---\n",
        "<코드 실행시 주의사항>   \n",
        "- API보안문제로 인하여 업무용 인터넷망 PC에서는 수행 불가능\n",
        "- 코드는 개인 노트북을 이용하여 google colab을 사용하여 수행해야함\n",
        "- key값은 개인 key값을 발급 받아 사용\n",
        "- 많은 동원지역명을 추출시도할 경우에는 사용할 수 있지만 소수의 지역의 위도 경도를 추출할 경우에는 엑셀 데이터에서 직접 변경하는 것이 수월함\n",
        "- 특히 시대가 변화하며 현재의 지역명과 다른 지역명들이 다수 존재 + 지역명이 아닌 작은 마음을 명칭도 있기 때문에 위도 경도 추출이 쉽지 않음\n",
        "- 제대로 추출되지 않는 경우 구글 지도를 사용하여 직접 검색 or 과거사관련업무 지원단 선생님들께 자료 요청 드리는 것이 빠름"
      ]
    },
    {
      "cell_type": "markdown",
      "metadata": {
        "id": "d6Lb68MbyusU"
      },
      "source": [
        "# 0. google drive\n",
        "---"
      ]
    },
    {
      "cell_type": "code",
      "execution_count": null,
      "metadata": {
        "id": "zAASIvHUx-no"
      },
      "outputs": [],
      "source": [
        "from google.colab import drive\n",
        "drive.mount('/content/drive')"
      ]
    },
    {
      "cell_type": "markdown",
      "metadata": {
        "id": "iZU57ocOyOB4"
      },
      "source": [
        "# 1. 지역명 엑셀 데이터 불러오기\n",
        "----"
      ]
    },
    {
      "cell_type": "code",
      "execution_count": null,
      "metadata": {
        "id": "hNlw-PkHp6mU"
      },
      "outputs": [],
      "source": [
        "# 판다스 불러오기\n",
        "import pandas as pd"
      ]
    },
    {
      "cell_type": "code",
      "execution_count": null,
      "metadata": {
        "id": "MHyUJSTftRqH"
      },
      "outputs": [],
      "source": [
        "# 지역명.xlsx 데이터 불러오기\n",
        "local = pd.read_excel('엑셀 경로 입력')"
      ]
    },
    {
      "cell_type": "code",
      "execution_count": null,
      "metadata": {
        "id": "_QuWrRWowQCJ"
      },
      "outputs": [],
      "source": [
        "local.head()"
      ]
    },
    {
      "cell_type": "markdown",
      "metadata": {
        "id": "-LRdN1TSzRcP"
      },
      "source": [
        "# 2. 지역명을 다른 언어로 번역\n",
        "---\n",
        "- 한국어로 된 지역명에서 위도, 경도 추출하는 것이 어려울 수 있음\n",
        "- 지역명을 번역하기 위해  googletrans\n",
        "- 파파고 유료로 전환되어 사용 불가능"
      ]
    },
    {
      "cell_type": "markdown",
      "metadata": {
        "id": "hZqNZygi0zXo"
      },
      "source": [
        "1) googletrans 라이브러리 설치   \n",
        "- pip install googletrans를 하면 동작하지 않는 버전을 설치하므로 버전지정이 필수  \n",
        "- 잘못 설치했다면 pip uninstall googletrans로 지워주고 다시 설치   "
      ]
    },
    {
      "cell_type": "code",
      "execution_count": null,
      "metadata": {
        "id": "IiLdF3Fn0Ckj"
      },
      "outputs": [],
      "source": [
        "!pip install googletrans==4.0.0-rc.1"
      ]
    },
    {
      "cell_type": "markdown",
      "metadata": {
        "id": "tAs7ojmw005W"
      },
      "source": [
        "2) Translator import 시키기  \n",
        "- translator.translate( 번역할 문장(string) ,src='번역할 문장의  언어' ,dest='변경할 언어' )"
      ]
    },
    {
      "cell_type": "code",
      "execution_count": null,
      "metadata": {
        "id": "FpzxkCx50A6g"
      },
      "outputs": [],
      "source": [
        "from googletrans import Translator\n",
        "translator = Translator()"
      ]
    },
    {
      "cell_type": "markdown",
      "metadata": {
        "id": "mgAxZShxykTi"
      },
      "source": [
        "3) 여러 언어 한번에 변환하기\n",
        "- 한국어를 영어, 일본어, 중국어 순으로 번역\n",
        "- 영어 : 'en'\n",
        "- 일본어 : 'ja'\n",
        "- 중국어 : 'zh-CN'"
      ]
    },
    {
      "cell_type": "code",
      "execution_count": null,
      "metadata": {
        "id": "3Dumm-vvzUca"
      },
      "outputs": [],
      "source": [
        "# 번역할 언어 리스트 생성\n",
        "# 필요시 다양한 언어 추가하여 list로 생성\n",
        "language_list = ['en', 'ja','zh-CN']"
      ]
    },
    {
      "cell_type": "code",
      "execution_count": null,
      "metadata": {
        "id": "9ZQT0Y_CzWIN"
      },
      "outputs": [],
      "source": [
        "# 번역할 언어 리스트가 담길 열을 생성하기 위해 변수 선언\n",
        "new_column = '동원지역명 수정'\n",
        "\n",
        "# 번역된 결과를 저장할 컬럼 이름 리스트 생성\n",
        "# language_list의 값을 for문을 이용해 하나씩 가져와 f_string을 사용해 새로운 컬럼명 생성 후 translated_columns에 반환\n",
        "translated_columns = [f'{new_column}_{i}' for i in language_list]"
      ]
    },
    {
      "cell_type": "code",
      "execution_count": null,
      "metadata": {
        "id": "6WVQAZj10DSk"
      },
      "outputs": [],
      "source": [
        "# 생성된 list\n",
        "translated_columns"
      ]
    },
    {
      "cell_type": "markdown",
      "metadata": {
        "id": "XIu5IlJg0fMz"
      },
      "source": [
        "함수 : trans_languages_list\n",
        "1. translator에 Translaor()라는 객체 생성\n",
        "2. trans_text라는 번역함수 정의\n",
        "3. 각 언어에 대해 번역된 결과를 저장할 열 추가"
      ]
    },
    {
      "cell_type": "code",
      "execution_count": null,
      "metadata": {
        "id": "zn3p1CZgxHgJ"
      },
      "outputs": [],
      "source": [
        "def trans_languages_list(df, src_column, dest_columns, languages):\n",
        "\n",
        "    # Translator 객체 생성\n",
        "    translator = Translator()\n",
        "\n",
        "    # 번역 함수 정의\n",
        "    def trans_text(text, dest_lang):\n",
        "        return translator.translate(text, dest=dest_lang).text\n",
        "\n",
        "    # 각 언어에 대해 번역된 결과를 저장할 열 추가\n",
        "    for dest_column, lang in zip(dest_columns, languages):\n",
        "        df[dest_column] = df[src_column].apply(trans_text, args=(lang,))\n",
        "\n",
        "    return df\n",
        "\n",
        "\n",
        "# 함수 호출\n",
        "# trans_languages_list(데이터프레임명, 번역할 컬럼, 번역된 내용이 담길 컬럼, 번역할 언어 리스트)\n",
        "trans_languages_list(local, '동원지역명', translated_columns, language_list)\n"
      ]
    },
    {
      "cell_type": "code",
      "execution_count": null,
      "metadata": {
        "id": "XtrLUoYH0ISr"
      },
      "outputs": [],
      "source": [
        "local.rename(columns={'동원지역명': '동원지역명_한국어',\n",
        "                      '동원지역명 수정_en': '동원지역명_영어',\n",
        "                      '동원지역명 수정_ja': '동원지역명_일본어',\n",
        "                      '동원지역명 수정_zh-CN': '동원지역명_중국어'}, inplace=True)"
      ]
    },
    {
      "cell_type": "code",
      "execution_count": null,
      "metadata": {
        "id": "qWVVjmXX-G6H"
      },
      "outputs": [],
      "source": [
        "local.head(3)"
      ]
    },
    {
      "cell_type": "markdown",
      "metadata": {
        "id": "yPy0A4r4l5zp"
      },
      "source": [
        "*주의할 점*\n",
        "- 번역할 때 지역명이 아닌 다른 동의어로 번역될 가능성 농후함으로 확인 필요"
      ]
    },
    {
      "cell_type": "markdown",
      "metadata": {
        "id": "UFbEkmgktyFU"
      },
      "source": [
        "# 3. 위도, 경도 추출하기\n",
        "---\n",
        "- 열의 이름은 [위도(y)], [경도(x)]를 사용\n",
        "- 위도(y) : 위도(latitude)값은 y값\n",
        "- 경도(x) : 경도(longitude)값은 x값"
      ]
    },
    {
      "cell_type": "code",
      "execution_count": null,
      "metadata": {
        "id": "fOZ2ig8nivAT"
      },
      "outputs": [],
      "source": [
        "# Google Maps를 사용하기 위한 패키지\n",
        "!pip install -U googlemaps"
      ]
    },
    {
      "cell_type": "code",
      "execution_count": null,
      "metadata": {
        "id": "OWuifVUkizc8"
      },
      "outputs": [],
      "source": [
        "import googlemaps"
      ]
    },
    {
      "cell_type": "code",
      "execution_count": null,
      "metadata": {
        "id": "D2gHeOS7rseu"
      },
      "outputs": [],
      "source": [
        "# Google Maps API 키\n",
        "key = 'googlemaps 발급받은 키 입력'"
      ]
    },
    {
      "cell_type": "code",
      "execution_count": null,
      "metadata": {
        "id": "e2CLe_46rtn0"
      },
      "outputs": [],
      "source": [
        "# Google Maps API 클라이언트 생성\n",
        "gmaps = googlemaps.Client(key=key)"
      ]
    },
    {
      "cell_type": "code",
      "execution_count": null,
      "metadata": {
        "id": "7ln8w6nRlJWD"
      },
      "outputs": [],
      "source": [
        "# 위도, 경도 담을 공간 생성\n",
        "local['위도'] =''\n",
        "local['경도'] =''"
      ]
    },
    {
      "cell_type": "code",
      "execution_count": null,
      "metadata": {
        "id": "bJPmiU-f5EKi"
      },
      "outputs": [],
      "source": [
        "local"
      ]
    },
    {
      "cell_type": "code",
      "execution_count": null,
      "metadata": {
        "id": "h7gJmUzkptIz"
      },
      "outputs": [],
      "source": [
        "# 사용 x\n",
        "# # 한국어로 위경도 추출\n",
        "# for index, row in local.iterrows():\n",
        "#     geocode_result = gmaps.geocode(row['동원지역명_한국어'])\n",
        "#     if geocode_result:\n",
        "#         location = geocode_result[0]['geometry']['location']\n",
        "#         local.at[index, '위도'] = location['lat']\n",
        "#         local.at[index, '경도'] = location['lng']"
      ]
    },
    {
      "cell_type": "markdown",
      "metadata": {
        "id": "y2QjjUFi-jHC"
      },
      "source": [
        "1) 한국 예외 처리를 하지 않은 경우"
      ]
    },
    {
      "cell_type": "code",
      "execution_count": null,
      "metadata": {
        "id": "04FGaBpTMFo2"
      },
      "outputs": [],
      "source": [
        "# 사용 x\n",
        "# # Geocoding 함수 정의\n",
        "# def get_geocode(row, columns_to_try):\n",
        "#     for column in columns_to_try:\n",
        "#         geocode_result = gmaps.geocode(row[column])\n",
        "#         if geocode_result:\n",
        "#             location = geocode_result[0]['geometry']['location']\n",
        "#             return location['lat'], location['lng']\n",
        "#     return None, None\n",
        "\n",
        "# # 위도 경도 추출\n",
        "# for index, row in local.iterrows():\n",
        "#     # 섬 이름, 섬 영어 이름, 섬 일본어 이름 순으로 시도\n",
        "#     lat, lng = get_geocode(row, ['동원지역명_한국어','동원지역명_영어','동원지역명_일본어','동원지역명_중국어'])\n",
        "#     local.at[index, '위도'] = lat\n",
        "#     local.at[index, '경도'] = lng\n"
      ]
    },
    {
      "cell_type": "code",
      "execution_count": null,
      "metadata": {
        "id": "KlbZpWLABoIK"
      },
      "outputs": [],
      "source": [
        "local"
      ]
    },
    {
      "cell_type": "markdown",
      "metadata": {
        "id": "bhvx5Zsu-nlx"
      },
      "source": [
        "2) 한국 예외 처리를 한 경우"
      ]
    },
    {
      "cell_type": "code",
      "execution_count": null,
      "metadata": {
        "id": "qh9hnNvY-rRJ"
      },
      "outputs": [],
      "source": [
        "# 사용 x\n",
        "# # Geocoding 함수 정의\n",
        "# def get_geocode(row, columns_to_try):\n",
        "#     for column in columns_to_try:\n",
        "#         geocode_result = gmaps.geocode(row[column])\n",
        "#         if geocode_result:\n",
        "#             location = geocode_result[0]['geometry']['location']\n",
        "\n",
        "#             # 한국 범위 안에 위도와 경도가 들어오는 경우\n",
        "#             if 33 <= location['lat'] <= 38 and 124 <= location['lng'] <= 132:\n",
        "#                 # 다음 열로 이동하여 번역을 시도\n",
        "#                 next_column_index = columns_to_try.index(column) + 1\n",
        "#                 if next_column_index < len(columns_to_try):\n",
        "#                     next_column = columns_to_try[next_column_index]\n",
        "#                     # 다음 열의 동원지역명_영어로 이동하여 번역을 시도\n",
        "#                     return get_geocode(row, [next_column])\n",
        "#                 else:\n",
        "#                     # 번역할 열이 더 이상 없는 경우 None 반환\n",
        "#                     return None, None\n",
        "#             return location['lat'], location['lng']\n",
        "#     return None, None\n",
        "\n",
        "# # 위도 경도 추출\n",
        "# for index, row in local.iterrows():\n",
        "#     # 섬 이름, 섬 영어 이름, 섬 일본어 이름 순으로 시도\n",
        "#     lat, lng = get_geocode(row, ['동원지역명_한국어', '동원지역명_영어', '동원지역명_일본어','동원지역명_중국어'])\n",
        "#     local.at[index, '위도'] = lat\n",
        "#     local.at[index, '경도'] = lng\n"
      ]
    },
    {
      "cell_type": "markdown",
      "metadata": {
        "id": "LVSV-ZQXmfhJ"
      },
      "source": [
        "### 한국 예외처리가 필요한 이유\n",
        "googlemaps를 이용하여 위도 경도 추출시 가장 먼저 추출하는 언어는 한국어   \n",
        "한국에 위치하고 있는 상호명과 추출하려는 지역명이 일치할 경우 원하지 않은 곳이 추출될 가능성 높음\n",
        "그렇기 때문에 한국의 범위((33,125)에서(37,130)) 내에 위치할 경우 다음 언어로 재검색 시도할 수 있는 코드 필요"
      ]
    },
    {
      "cell_type": "code",
      "execution_count": null,
      "metadata": {
        "id": "STTBDILkDNax"
      },
      "outputs": [],
      "source": [
        "# 가장 효율적인 코드\n",
        "def get_geocode(row, columns_to_try, current_index=0):\n",
        "\n",
        "    if current_index >= len(columns_to_try):\n",
        "        # 현재 인덱스가 열 목록을 벗어난 경우 None 반환\n",
        "        return None, None\n",
        "\n",
        "    column = columns_to_try[current_index]\n",
        "    geocode_result = gmaps.geocode(row[column])\n",
        "\n",
        "    if geocode_result:\n",
        "        location = geocode_result[0]['geometry']['location']\n",
        "\n",
        "        # 한국 범위 안에 위도와 경도가 들어오는 경우\n",
        "        if 33 <= location['lat'] <= 37  and 125 <= location['lng'] <= 130:\n",
        "            # 다음 열로 이동하여 번역을 시도\n",
        "            next_index = current_index + 1\n",
        "            return get_geocode(row, columns_to_try, next_index)\n",
        "        else:\n",
        "            return location['lat'], location['lng']\n",
        "    else:\n",
        "        # 결과가 없는 경우 현재 열에서 추출을 시도하지 않고 다음 열로 이동하여 재시도\n",
        "        next_index = current_index + 1\n",
        "        return get_geocode(row, columns_to_try, next_index)\n",
        "\n",
        "\n",
        "# 위도 경도 추출\n",
        "for index, row in local.iterrows():\n",
        "    # 섬 이름, 섬 영어 이름, 섬 일본어 이름 순으로 시도\n",
        "    lat, lng = get_geocode(row, ['동원지역명_한국어', '동원지역명_영어', '동원지역명_일본어', '동원지역명_중국어'])\n",
        "\n",
        "    if lat is not None and lng is not None:\n",
        "        local.at[index, '위도'] = lat\n",
        "        local.at[index, '경도'] = lng\n",
        "    else:\n",
        "        # 위도와 경도가 없는 경우 None으로 업데이트\n",
        "        local.at[index, '위도'] = None\n",
        "        local.at[index, '경도'] = None\n"
      ]
    },
    {
      "cell_type": "markdown",
      "metadata": {
        "id": "baWbX-kP_lIF"
      },
      "source": [
        "# 4. 위도, 경도 folium을 사용하여 지도 출력\n",
        "---"
      ]
    },
    {
      "cell_type": "code",
      "execution_count": null,
      "metadata": {
        "id": "M3gM0HijLvhl"
      },
      "outputs": [],
      "source": [
        "local"
      ]
    },
    {
      "cell_type": "code",
      "execution_count": null,
      "metadata": {
        "id": "oibv1_lJ8yWa"
      },
      "outputs": [],
      "source": [
        "import folium"
      ]
    },
    {
      "cell_type": "code",
      "execution_count": null,
      "metadata": {
        "id": "Hw0T_XFvuvu4"
      },
      "outputs": [],
      "source": [
        "# 지도 초기 위치 설정\n",
        "m = folium.Map(location=[0, 0], zoom_start=2)"
      ]
    },
    {
      "cell_type": "code",
      "execution_count": null,
      "metadata": {
        "id": "FB-_OeLiuaV4"
      },
      "outputs": [],
      "source": [
        "# 국가별 좌표를 지도에 표시\n",
        "# iterrows()는 DataFrame의 각 행을 반복적으로 반환하는 함수\n",
        "# iterrows() 메서드는 반복 가능한 튜플 형태로 각 행의 인덱스와 데이터를 반환\n",
        "for index, row in local.iterrows():\n",
        "    country_name = row['동원지역명_한국어']\n",
        "    latitude = row['위도']\n",
        "    longitude = row['경도']\n",
        "\n",
        "    #좌표가 NAN일 경우에는 표시 x\n",
        "    if pd.notnull(latitude) and pd.notnull(longitude):\n",
        "        folium.Marker([latitude, longitude], tooltip=country_name).add_to(m)\n",
        "\n",
        "# 지도를 HTML 파일로 저장\n",
        "m.save(\"map_with_coordinates.html\")"
      ]
    },
    {
      "cell_type": "code",
      "execution_count": null,
      "metadata": {
        "id": "iaJFEgAPv4hN"
      },
      "outputs": [],
      "source": [
        "# 지도 출력하기\n",
        "m"
      ]
    },
    {
      "cell_type": "markdown",
      "metadata": {
        "id": "pVE29MCfABvD"
      },
      "source": [
        "# 5. 위도, 경도 데이터 엑셀로 저장\n",
        "엑셀 데이터로 저장할 경우에는 번역된 동원지역명 삭제"
      ]
    },
    {
      "cell_type": "code",
      "execution_count": null,
      "metadata": {
        "id": "N2hey0hUAbjB"
      },
      "outputs": [],
      "source": [
        "drop_list = ['동원지역명_영어', '동원지역명_일본어','동원지역명_중국어']\n",
        "local = local.drop(drop_list, axis=1)"
      ]
    },
    {
      "cell_type": "code",
      "execution_count": null,
      "metadata": {
        "id": "SA0aKFsvAlGP"
      },
      "outputs": [],
      "source": [
        "local.rename(columns={'동원지역명_한국어':'동원지역명 수정'}, inplace=True)"
      ]
    },
    {
      "cell_type": "code",
      "execution_count": null,
      "metadata": {
        "id": "IdwLBWBFMdxF"
      },
      "outputs": [],
      "source": [
        "local"
      ]
    },
    {
      "cell_type": "code",
      "execution_count": null,
      "metadata": {
        "id": "dpeItkbWg3f-"
      },
      "outputs": [],
      "source": [
        "# 업데이트 확인을 위한 파일명 날짜 수정 필수\n",
        "local.to_excel('/content/drive/MyDrive/QGIS/5월09일/동원지역명 확인용 (날짜).xlsx.xlsx', index=False)"
      ]
    },
    {
      "cell_type": "markdown",
      "metadata": {
        "id": "Zh9U_8trnmsx"
      },
      "source": []
    }
  ],
  "metadata": {
    "colab": {
      "provenance": []
    },
    "kernelspec": {
      "display_name": "Python 3",
      "name": "python3"
    },
    "language_info": {
      "name": "python"
    }
  },
  "nbformat": 4,
  "nbformat_minor": 0
}
